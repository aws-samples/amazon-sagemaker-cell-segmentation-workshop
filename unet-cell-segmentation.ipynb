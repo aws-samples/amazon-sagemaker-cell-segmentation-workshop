{
 "cells": [
  {
   "cell_type": "code",
   "execution_count": null,
   "id": "eb1f5814-103d-4dfd-80a3-706ed0371326",
   "metadata": {
    "tags": []
   },
   "outputs": [],
   "source": [
    "# Copyright Amazon.com, Inc. or its affiliates. All Rights Reserved.\n",
    "# SPDX-License-Identifier: MIT-0\n",
    "\n",
    "# REQUIRED: Set pathname which contains the `BBBC005_v1` dataset used for training the model\n",
    "IMG_PATH = \"/root/BBBC005_v1_images/\"\n",
    "MASK_PATH = \"/root/BBBC005_v1_ground_truth/\"\n",
    "MODEL_PATH = \"/root/model/\"\n",
    "\n",
    "# Scale images to the specified height x width with a single channel by default.\n",
    "IMG_HEIGHT = 512\n",
    "IMG_WIDTH = 512\n",
    "IMG_CHANNELS = 1\n",
    "\n",
    "# Specify the number of images reserved for testing the model\n",
    "NUM_TEST_IMAGES = 100\n",
    "\n",
    "# Number of images to display for inference testing\n",
    "DISPLAY_TEST_IMAGES = 4"
   ]
  },
  {
   "cell_type": "code",
   "execution_count": null,
   "id": "4ec4b45e-3b4f-4d16-a906-f8b0536fbf00",
   "metadata": {
    "tags": []
   },
   "outputs": [],
   "source": [
    "import os\n",
    "\n",
    "# Check whether the specified\n",
    "# path exists or not\n",
    "if os.path.exists(IMG_PATH) == False:\n",
    "    print(IMG_PATH, \"does not exist, please confirm datasets are correctly downloaded from the prerequisites step\")\n",
    "\n",
    "if os.path.exists(MASK_PATH) == False:\n",
    "    print(MASK_PATH, \"does not exist, please confirm datasets are correctly downloaded from the prerequisites step\")\n",
    "\n",
    "if os.path.exists(MODEL_PATH) == False:\n",
    "    print(MODEL_PATH, \"directory does not exist, creating directory ...\")\n",
    "    os.mkdir(MODEL_PATH)"
   ]
  },
  {
   "cell_type": "code",
   "execution_count": null,
   "id": "96d0f28b-433b-4eb1-b3f9-6ae05ca067a4",
   "metadata": {
    "tags": []
   },
   "outputs": [],
   "source": [
    "# Install missing deps from the `TensorFlow 2.11.0 Python 3.9` instance\n",
    "!pip install --upgrade pip\n",
    "!pip install scikit-image"
   ]
  },
  {
   "cell_type": "code",
   "execution_count": null,
   "id": "2e036e3a-d98c-49c8-82f0-5ba43366e26f",
   "metadata": {
    "tags": []
   },
   "outputs": [],
   "source": [
    "import pandas as pd\n",
    "import numpy as np\n",
    "\n",
    "import matplotlib.pyplot as plt\n",
    "%matplotlib inline\n",
    "\n",
    "from skimage.io import imread, imshow\n",
    "from skimage.transform import resize\n",
    "\n",
    "# Don't Show Warning Messages\n",
    "import warnings\n",
    "warnings.filterwarnings('ignore')\n",
    "\n",
    "from keras.models import Model, load_model\n",
    "from keras.layers import Input\n",
    "from keras.layers.core import Dropout, Lambda\n",
    "from keras.layers.convolutional import Conv2D, Conv2DTranspose\n",
    "from keras.layers.pooling import MaxPooling2D\n",
    "from tensorflow.keras.layers import concatenate\n",
    "from keras.callbacks import EarlyStopping, ModelCheckpoint\n",
    "from keras import backend as K\n",
    "\n",
    "import tensorflow as tf"
   ]
  },
  {
   "cell_type": "code",
   "execution_count": null,
   "id": "08241368-59d4-45be-abd5-136ca158576c",
   "metadata": {
    "tags": []
   },
   "outputs": [],
   "source": [
    "# Confirm if a CPU, or GPU compatible device is available.\n",
    "print(tf.config.list_physical_devices())\n",
    "print(tf.__version__)  # This notebook runs on TensorFlow 2.12.0 as tested for the workshop"
   ]
  },
  {
   "cell_type": "code",
   "execution_count": null,
   "id": "ef7ed46e-0418-4f8a-a15a-5da6f81c636d",
   "metadata": {
    "tags": []
   },
   "outputs": [],
   "source": [
    "# Step 1 - Load the images and masks into a Pandas dataframe\n",
    "imgs = os.listdir(IMG_PATH)\n",
    "masks = os.listdir(MASK_PATH)\n",
    "all = np.append(imgs, masks)"
   ]
  },
  {
   "cell_type": "code",
   "execution_count": null,
   "id": "9b35c025-0906-4f9f-9200-7b469dae6b8a",
   "metadata": {
    "tags": []
   },
   "outputs": [],
   "source": [
    "df_imgs = pd.DataFrame(columns=[\"filename\", \"type\", \"well\", \"cells\", \"blur\", \"sample\", \"stain\"])"
   ]
  },
  {
   "cell_type": "code",
   "execution_count": null,
   "id": "26e5cdd5-1653-4c80-b222-4e6808a99656",
   "metadata": {
    "tags": []
   },
   "outputs": [],
   "source": [
    "i = 0\n",
    "for img in all:\n",
    "    i += 1\n",
    "\n",
    "# The image nomenclature was chosen to permit metadata to be organized in a plate layout. Each image follows the form\n",
    "# SIMCEPImages_well_Ccells_Fblur_ssamples_wstain.TIF\n",
    "# where the variables are as follows:\n",
    "\n",
    "# well\n",
    "# The standard 384-well plate format is used where the rows are named A-P and the columns 1- 24.\n",
    "# cells\n",
    "# The number of cells simulated in the image (1-100).\n",
    "# blur\n",
    "# The amount of focus blur applied (1-48). The focus blur was simulated by using MATLAB's imfilter function with a rotationally symmetric Gaussian lowpass filter of diameter and sigma of 0.25 × \n",
    "# sample\n",
    "# Number of samples (1-25) for a given combination. Can be used to mimic the \"site\" number for each well.\n",
    "# stain\n",
    "# 1 = cell body stain, 2 = nuclei stain.\n",
    "\n",
    "    metadata = img.split(\"_\")\n",
    "    \n",
    "    # Skip any filenames which do not match our nomenclature\n",
    "    if(len(metadata) != 6):\n",
    "        continue\n",
    "    \n",
    "    # Determine if an image or mask\n",
    "    if i <= len(imgs):\n",
    "        img_type = \"image\"\n",
    "    else:\n",
    "        img_type = \"mask\"\n",
    "    \n",
    "    # Create a new row, format fields from filename\n",
    "    new_row = {\n",
    "        'filename': img,\n",
    "        'type': img_type,\n",
    "        'well': metadata[1],\n",
    "        'cells': int(metadata[2].replace(\"C\", \"\")),\n",
    "        'blur': int(metadata[3].replace(\"F\", \"\")),\n",
    "        'sample': int(metadata[4].replace(\"s\", \"\")),\n",
    "        'stain': int(metadata[5].replace(\"w\", \"\").replace(\".TIF\", \"\")),\n",
    "    }\n",
    "    \n",
    "    # Append the new row to our dataframe\n",
    "    df_imgs.loc[len(df_imgs)] = new_row\n"
   ]
  },
  {
   "cell_type": "code",
   "execution_count": null,
   "id": "2e44f670-5ec3-47b5-aa1d-bdd15b8a54f6",
   "metadata": {
    "tags": []
   },
   "outputs": [],
   "source": [
    "df_imgs.head(20)"
   ]
  },
  {
   "cell_type": "code",
   "execution_count": null,
   "id": "272fc251-b8fa-4186-aa90-88026cb58578",
   "metadata": {
    "tags": []
   },
   "outputs": [],
   "source": [
    "# Step 2 - Create a new dataframe for our masks and images\n",
    "df_nuclei_masks = df_imgs.query(\"type == 'mask' & stain == 1\")\n",
    "df_nuclei_images = df_imgs.query(\"type == 'image' & stain == 1\")\n",
    "\n",
    "# Confirm the dataframe shape for the number images and masks.\n",
    "print(\"Image mask shape (nuclei stain) =>\\t\",\n",
    "        df_nuclei_masks.shape,\n",
    "        \"\\nimage shape (nuclei stain) =>\\t\\t\", \n",
    "        df_nuclei_images.shape)"
   ]
  },
  {
   "cell_type": "code",
   "execution_count": null,
   "id": "5dfcae35-5e53-4e9f-994d-25ab13a5e542",
   "metadata": {
    "tags": []
   },
   "outputs": [],
   "source": [
    "# Step 3 - Split the data into training and validation\n",
    "df_nuclei_masks_tests = df_nuclei_masks.sample(NUM_TEST_IMAGES)\n",
    "df_nuclei_masks_tests.head()"
   ]
  },
  {
   "cell_type": "code",
   "execution_count": null,
   "id": "44b50017-f1dc-4f47-9da0-087020918d06",
   "metadata": {
    "tags": []
   },
   "outputs": [],
   "source": [
    "# Remove our test images used for validation from the training mask dataframe\n",
    "df_nuclei_masks = df_nuclei_masks.drop(df_nuclei_masks_tests.index)"
   ]
  },
  {
   "cell_type": "code",
   "execution_count": null,
   "id": "74fe16b3-ad4f-40fa-bc04-65d172a9d566",
   "metadata": {
    "tags": []
   },
   "outputs": [],
   "source": [
    "# Confirm the shape for our test, and training dataset\n",
    "print(df_nuclei_masks_tests.shape, df_nuclei_masks.shape)"
   ]
  },
  {
   "cell_type": "code",
   "execution_count": null,
   "id": "14802ff4-0ebe-4ea9-98ed-0e039230e928",
   "metadata": {
    "tags": []
   },
   "outputs": [],
   "source": [
    "# Display a random sample mask\n",
    "row = df_nuclei_masks.sample(1)\n",
    "row.head()"
   ]
  },
  {
   "cell_type": "code",
   "execution_count": null,
   "id": "9d741768-f010-4309-9554-d946128a85ba",
   "metadata": {
    "tags": []
   },
   "outputs": [],
   "source": [
    "# Read the mask using skimage\n",
    "mask = imread(\"{}/{}\".format(MASK_PATH, row[\"filename\"].to_string(index=False)))\n",
    "plt.imshow(mask, cmap='gray')"
   ]
  },
  {
   "cell_type": "code",
   "execution_count": null,
   "id": "a805586e-a111-4d97-af44-0e6564f37ae7",
   "metadata": {
    "tags": []
   },
   "outputs": [],
   "source": [
    "# Load the original data to confirm our training mask matches\n",
    "img = imread(\"{}/{}\".format(IMG_PATH, row[\"filename\"].to_string(index=False)))\n",
    "plt.imshow(img)"
   ]
  },
  {
   "cell_type": "code",
   "execution_count": null,
   "id": "b5d7ee27-04b3-43a9-8422-867957d02344",
   "metadata": {
    "tags": []
   },
   "outputs": [],
   "source": [
    "# Step 4 - Resize and format images for model training\n",
    "def format_img(dir, imgs, channels, dtype):\n",
    "    train = np.zeros((len(imgs), IMG_HEIGHT, IMG_WIDTH, channels), dtype=dtype)\n",
    "    for i, img in enumerate(imgs):\n",
    "        file = \"{}/{}\".format(dir, img)\n",
    "        if os.path.exists(file):\n",
    "            raw_img = imread(file)\n",
    "            train[i] = np.expand_dims(resize(raw_img, (IMG_HEIGHT, IMG_WIDTH), mode='constant', preserve_range=True), axis=-1)\n",
    "        else:\n",
    "            print(file, \" does not exist\")\n",
    "        #print(img)\n",
    "    return train"
   ]
  },
  {
   "cell_type": "code",
   "execution_count": null,
   "id": "1956a697-1177-4e86-b3cd-6573dc87ed1f",
   "metadata": {
    "tags": []
   },
   "outputs": [],
   "source": [
    "# Process dataset for training (x)\n",
    "df_nuclei_imgs_x = format_img(IMG_PATH, df_nuclei_masks[\"filename\"], IMG_CHANNELS, np.uint8)\n",
    "df_nuclei_imgs_x.shape"
   ]
  },
  {
   "cell_type": "code",
   "execution_count": null,
   "id": "904d3d09-dc00-4fc2-9b95-1408e7f2c855",
   "metadata": {
    "tags": []
   },
   "outputs": [],
   "source": [
    "# Process masks for training (y)\n",
    "df_nuclei_masks_y = format_img(MASK_PATH, df_nuclei_masks[\"filename\"], 1, np.bool)\n",
    "df_nuclei_masks_y.shape"
   ]
  },
  {
   "cell_type": "code",
   "execution_count": null,
   "id": "7be27bca-6b76-43ae-afcc-fdff03459e62",
   "metadata": {
    "tags": []
   },
   "outputs": [],
   "source": [
    "# Test images\n",
    "df_nuclei_tests = format_img(MASK_PATH, df_nuclei_masks_tests[\"filename\"], IMG_CHANNELS, np.uint8)\n",
    "df_nuclei_tests.shape"
   ]
  },
  {
   "cell_type": "code",
   "execution_count": null,
   "id": "624c475c-22e0-45e9-b981-6fd334ad9c48",
   "metadata": {
    "tags": []
   },
   "outputs": [],
   "source": [
    "# Step 5 - Configure Unet model\n",
    "# Unet model source: https://www.kaggle.com/keegil/keras-u-net-starter-lb-0-277\n",
    "inputs = Input((IMG_HEIGHT, IMG_WIDTH, IMG_CHANNELS))\n",
    "\n",
    "s = Lambda(lambda x: x / 255) (inputs)\n",
    "\n",
    "c1 = Conv2D(16, (3, 3), activation='elu', kernel_initializer='he_normal', padding='same') (s)\n",
    "c1 = Dropout(0.1) (c1)\n",
    "c1 = Conv2D(16, (3, 3), activation='elu', kernel_initializer='he_normal', padding='same') (c1)\n",
    "p1 = MaxPooling2D((2, 2)) (c1)\n",
    "\n",
    "c2 = Conv2D(32, (3, 3), activation='elu', kernel_initializer='he_normal', padding='same') (p1)\n",
    "c2 = Dropout(0.1) (c2)\n",
    "c2 = Conv2D(32, (3, 3), activation='elu', kernel_initializer='he_normal', padding='same') (c2)\n",
    "p2 = MaxPooling2D((2, 2)) (c2)\n",
    "\n",
    "c3 = Conv2D(64, (3, 3), activation='elu', kernel_initializer='he_normal', padding='same') (p2)\n",
    "c3 = Dropout(0.2) (c3)\n",
    "c3 = Conv2D(64, (3, 3), activation='elu', kernel_initializer='he_normal', padding='same') (c3)\n",
    "p3 = MaxPooling2D((2, 2)) (c3)\n",
    "\n",
    "c4 = Conv2D(128, (3, 3), activation='elu', kernel_initializer='he_normal', padding='same') (p3)\n",
    "c4 = Dropout(0.2) (c4)\n",
    "c4 = Conv2D(128, (3, 3), activation='elu', kernel_initializer='he_normal', padding='same') (c4)\n",
    "p4 = MaxPooling2D(pool_size=(2, 2)) (c4)\n",
    "\n",
    "c5 = Conv2D(256, (3, 3), activation='elu', kernel_initializer='he_normal', padding='same') (p4)\n",
    "c5 = Dropout(0.3) (c5)\n",
    "c5 = Conv2D(256, (3, 3), activation='elu', kernel_initializer='he_normal', padding='same') (c5)\n",
    "\n",
    "u6 = Conv2DTranspose(128, (2, 2), strides=(2, 2), padding='same') (c5)\n",
    "u6 = concatenate([u6, c4])\n",
    "c6 = Conv2D(128, (3, 3), activation='elu', kernel_initializer='he_normal', padding='same') (u6)\n",
    "c6 = Dropout(0.2) (c6)\n",
    "c6 = Conv2D(128, (3, 3), activation='elu', kernel_initializer='he_normal', padding='same') (c6)\n",
    "\n",
    "u7 = Conv2DTranspose(64, (2, 2), strides=(2, 2), padding='same') (c6)\n",
    "u7 = concatenate([u7, c3])\n",
    "c7 = Conv2D(64, (3, 3), activation='elu', kernel_initializer='he_normal', padding='same') (u7)\n",
    "c7 = Dropout(0.2) (c7)\n",
    "c7 = Conv2D(64, (3, 3), activation='elu', kernel_initializer='he_normal', padding='same') (c7)\n",
    "\n",
    "u8 = Conv2DTranspose(32, (2, 2), strides=(2, 2), padding='same') (c7)\n",
    "u8 = concatenate([u8, c2])\n",
    "c8 = Conv2D(32, (3, 3), activation='elu', kernel_initializer='he_normal', padding='same') (u8)\n",
    "c8 = Dropout(0.1) (c8)\n",
    "c8 = Conv2D(32, (3, 3), activation='elu', kernel_initializer='he_normal', padding='same') (c8)\n",
    "\n",
    "u9 = Conv2DTranspose(16, (2, 2), strides=(2, 2), padding='same') (c8)\n",
    "u9 = concatenate([u9, c1], axis=3)\n",
    "c9 = Conv2D(16, (3, 3), activation='elu', kernel_initializer='he_normal', padding='same') (u9)\n",
    "c9 = Dropout(0.1) (c9)\n",
    "c9 = Conv2D(16, (3, 3), activation='elu', kernel_initializer='he_normal', padding='same') (c9)\n",
    "\n",
    "outputs = Conv2D(1, (1, 1), activation='sigmoid') (c9)\n",
    "\n",
    "model = Model(inputs=[inputs], outputs=[outputs])\n",
    "\n",
    "model.compile(optimizer='adam', loss='binary_crossentropy')\n",
    "\n",
    "model.summary()"
   ]
  },
  {
   "cell_type": "code",
   "execution_count": null,
   "id": "e0434d1b-7575-483c-9e44-ca8e64a6fdc2",
   "metadata": {
    "tags": []
   },
   "outputs": [],
   "source": [
    "# Step 6 - Kickstart the training\n",
    "# Train the model using the specified pathname\n",
    "# Will take approx ~5min to complete 4 epochs (ml-g4dn-xlarge w/ NVIDIA T4 GPU)\n",
    "filepath = MODEL_PATH + \"unet-cell-segmentation-v2-512x512.model\"\n",
    "\n",
    "earlystopper = EarlyStopping(patience=2, verbose=1)\n",
    "\n",
    "checkpoint = ModelCheckpoint(filepath, monitor='val_loss', verbose=1, save_best_only=True, mode='min')\n",
    "\n",
    "callbacks_list = [earlystopper, checkpoint]\n",
    "\n",
    "history = model.fit(df_nuclei_imgs_x, df_nuclei_masks_y, validation_split=0.20, batch_size=32, epochs=4, \n",
    "                    callbacks=callbacks_list)"
   ]
  },
  {
   "cell_type": "code",
   "execution_count": null,
   "id": "2c30107a-b35e-40b9-a935-8acaa8580f68",
   "metadata": {},
   "outputs": [],
   "source": [
    "print(\"Congratulations! Model saved to \", filepath)"
   ]
  },
  {
   "cell_type": "code",
   "execution_count": null,
   "id": "308446e4-fd6a-4274-acae-e6a910898581",
   "metadata": {
    "tags": []
   },
   "outputs": [],
   "source": [
    "# Step 7 - Test inference against our stored model\n",
    "random_samples = np.random.permutation(NUM_TEST_IMAGES)[:DISPLAY_TEST_IMAGES]\n",
    "random_samples"
   ]
  },
  {
   "cell_type": "code",
   "execution_count": null,
   "id": "c175ab42-63b3-4e51-93c7-e7a5fc879680",
   "metadata": {
    "tags": []
   },
   "outputs": [],
   "source": [
    "# Reset our dataframe index to match our random sample index\n",
    "df_nuclei_masks_tests = df_nuclei_masks_tests.reset_index(drop=True)"
   ]
  },
  {
   "cell_type": "code",
   "execution_count": null,
   "id": "a190457d-bb43-4aaa-b77c-090c46af8802",
   "metadata": {
    "tags": []
   },
   "outputs": [],
   "source": [
    "inference = format_img(IMG_PATH, df_nuclei_masks_tests.loc[random_samples][\"filename\"], IMG_CHANNELS, np.uint8)"
   ]
  },
  {
   "cell_type": "code",
   "execution_count": null,
   "id": "c05a6171-e6b6-4fe9-a9f2-89c0aa98c074",
   "metadata": {
    "tags": []
   },
   "outputs": [],
   "source": [
    "inference.shape"
   ]
  },
  {
   "cell_type": "code",
   "execution_count": null,
   "id": "b59881bc-91d6-4ca5-a2bf-3890d6c6c301",
   "metadata": {
    "tags": []
   },
   "outputs": [],
   "source": [
    "model = load_model(MODEL_PATH + 'unet-cell-segmentation-v2-512x512.model')"
   ]
  },
  {
   "cell_type": "code",
   "execution_count": null,
   "id": "d584fda6-30fc-4d5e-bd10-abd4ce6de41a",
   "metadata": {
    "tags": []
   },
   "outputs": [],
   "source": [
    "predictions = model.predict(inference)"
   ]
  },
  {
   "cell_type": "code",
   "execution_count": null,
   "id": "ce7252e6-489a-4a4c-9d72-f09cd1220f72",
   "metadata": {
    "tags": []
   },
   "outputs": [],
   "source": [
    "# Threshold the predictions\n",
    "predictions_threshold = (predictions >= 0.5).astype(np.uint8)"
   ]
  },
  {
   "cell_type": "code",
   "execution_count": null,
   "id": "57e96c74-cffd-454b-8d17-c4add20d7497",
   "metadata": {
    "tags": []
   },
   "outputs": [],
   "source": [
    "f, axarr = plt.subplots(DISPLAY_TEST_IMAGES,3, figsize=(32,32))\n",
    "plt.tight_layout()\n",
    "\n",
    "axarr[0,0].set_title('Cell Image', fontsize=24)\n",
    "axarr[0,1].set_title('Original Mask', fontsize=24)\n",
    "axarr[0,2].set_title('Model Prediction', fontsize=24)\n",
    "\n",
    "for x in range(DISPLAY_TEST_IMAGES):\n",
    "    axarr[x,0].set_aspect('equal')\n",
    "    axarr[x,0].imshow(resize(inference[x, :, :, 0], (256, 256), mode='constant', preserve_range=True) )\n",
    "    axarr[x,0].axis('on')\n",
    "\n",
    "    original_mask_path = \"{}/{}\".format(MASK_PATH, df_nuclei_masks_tests.loc[random_samples[x]][\"filename\"])\n",
    "    original_mask = imread(original_mask_path)\n",
    "    axarr[x,1].set_aspect('equal')\n",
    "    axarr[x,1].imshow(resize(original_mask, (256, 256), mode='constant', preserve_range=True) )\n",
    "    axarr[x,1].axis('on')\n",
    "\n",
    "    axarr[x,2].set_aspect('equal')\n",
    "    axarr[x,2].imshow(resize(predictions_threshold[x, :, :, 0], (256, 256), mode='constant', preserve_range=True), cmap='gray')\n",
    "    axarr[x,2].axis('on')\n",
    "\n",
    "plt.subplots_adjust(wspace=0, hspace=0.2)\n",
    "plt.show()"
   ]
  },
  {
   "cell_type": "code",
   "execution_count": null,
   "id": "9f6ea135-5669-481e-b3bb-dbd7ecae1091",
   "metadata": {},
   "outputs": [],
   "source": []
  }
 ],
 "metadata": {
  "availableInstances": [
   {
    "_defaultOrder": 0,
    "_isFastLaunch": true,
    "category": "General purpose",
    "gpuNum": 0,
    "memoryGiB": 4,
    "name": "ml.t3.medium",
    "vcpuNum": 2
   },
   {
    "_defaultOrder": 1,
    "_isFastLaunch": false,
    "category": "General purpose",
    "gpuNum": 0,
    "memoryGiB": 8,
    "name": "ml.t3.large",
    "vcpuNum": 2
   },
   {
    "_defaultOrder": 2,
    "_isFastLaunch": false,
    "category": "General purpose",
    "gpuNum": 0,
    "memoryGiB": 16,
    "name": "ml.t3.xlarge",
    "vcpuNum": 4
   },
   {
    "_defaultOrder": 3,
    "_isFastLaunch": false,
    "category": "General purpose",
    "gpuNum": 0,
    "memoryGiB": 32,
    "name": "ml.t3.2xlarge",
    "vcpuNum": 8
   },
   {
    "_defaultOrder": 4,
    "_isFastLaunch": true,
    "category": "General purpose",
    "gpuNum": 0,
    "memoryGiB": 8,
    "name": "ml.m5.large",
    "vcpuNum": 2
   },
   {
    "_defaultOrder": 5,
    "_isFastLaunch": false,
    "category": "General purpose",
    "gpuNum": 0,
    "memoryGiB": 16,
    "name": "ml.m5.xlarge",
    "vcpuNum": 4
   },
   {
    "_defaultOrder": 6,
    "_isFastLaunch": false,
    "category": "General purpose",
    "gpuNum": 0,
    "memoryGiB": 32,
    "name": "ml.m5.2xlarge",
    "vcpuNum": 8
   },
   {
    "_defaultOrder": 7,
    "_isFastLaunch": false,
    "category": "General purpose",
    "gpuNum": 0,
    "memoryGiB": 64,
    "name": "ml.m5.4xlarge",
    "vcpuNum": 16
   },
   {
    "_defaultOrder": 8,
    "_isFastLaunch": false,
    "category": "General purpose",
    "gpuNum": 0,
    "memoryGiB": 128,
    "name": "ml.m5.8xlarge",
    "vcpuNum": 32
   },
   {
    "_defaultOrder": 9,
    "_isFastLaunch": false,
    "category": "General purpose",
    "gpuNum": 0,
    "memoryGiB": 192,
    "name": "ml.m5.12xlarge",
    "vcpuNum": 48
   },
   {
    "_defaultOrder": 10,
    "_isFastLaunch": false,
    "category": "General purpose",
    "gpuNum": 0,
    "memoryGiB": 256,
    "name": "ml.m5.16xlarge",
    "vcpuNum": 64
   },
   {
    "_defaultOrder": 11,
    "_isFastLaunch": false,
    "category": "General purpose",
    "gpuNum": 0,
    "memoryGiB": 384,
    "name": "ml.m5.24xlarge",
    "vcpuNum": 96
   },
   {
    "_defaultOrder": 12,
    "_isFastLaunch": false,
    "category": "General purpose",
    "gpuNum": 0,
    "memoryGiB": 8,
    "name": "ml.m5d.large",
    "vcpuNum": 2
   },
   {
    "_defaultOrder": 13,
    "_isFastLaunch": false,
    "category": "General purpose",
    "gpuNum": 0,
    "memoryGiB": 16,
    "name": "ml.m5d.xlarge",
    "vcpuNum": 4
   },
   {
    "_defaultOrder": 14,
    "_isFastLaunch": false,
    "category": "General purpose",
    "gpuNum": 0,
    "memoryGiB": 32,
    "name": "ml.m5d.2xlarge",
    "vcpuNum": 8
   },
   {
    "_defaultOrder": 15,
    "_isFastLaunch": false,
    "category": "General purpose",
    "gpuNum": 0,
    "memoryGiB": 64,
    "name": "ml.m5d.4xlarge",
    "vcpuNum": 16
   },
   {
    "_defaultOrder": 16,
    "_isFastLaunch": false,
    "category": "General purpose",
    "gpuNum": 0,
    "memoryGiB": 128,
    "name": "ml.m5d.8xlarge",
    "vcpuNum": 32
   },
   {
    "_defaultOrder": 17,
    "_isFastLaunch": false,
    "category": "General purpose",
    "gpuNum": 0,
    "memoryGiB": 192,
    "name": "ml.m5d.12xlarge",
    "vcpuNum": 48
   },
   {
    "_defaultOrder": 18,
    "_isFastLaunch": false,
    "category": "General purpose",
    "gpuNum": 0,
    "memoryGiB": 256,
    "name": "ml.m5d.16xlarge",
    "vcpuNum": 64
   },
   {
    "_defaultOrder": 19,
    "_isFastLaunch": false,
    "category": "General purpose",
    "gpuNum": 0,
    "memoryGiB": 384,
    "name": "ml.m5d.24xlarge",
    "vcpuNum": 96
   },
   {
    "_defaultOrder": 20,
    "_isFastLaunch": true,
    "category": "Compute optimized",
    "gpuNum": 0,
    "memoryGiB": 4,
    "name": "ml.c5.large",
    "vcpuNum": 2
   },
   {
    "_defaultOrder": 21,
    "_isFastLaunch": false,
    "category": "Compute optimized",
    "gpuNum": 0,
    "memoryGiB": 8,
    "name": "ml.c5.xlarge",
    "vcpuNum": 4
   },
   {
    "_defaultOrder": 22,
    "_isFastLaunch": false,
    "category": "Compute optimized",
    "gpuNum": 0,
    "memoryGiB": 16,
    "name": "ml.c5.2xlarge",
    "vcpuNum": 8
   },
   {
    "_defaultOrder": 23,
    "_isFastLaunch": false,
    "category": "Compute optimized",
    "gpuNum": 0,
    "memoryGiB": 32,
    "name": "ml.c5.4xlarge",
    "vcpuNum": 16
   },
   {
    "_defaultOrder": 24,
    "_isFastLaunch": false,
    "category": "Compute optimized",
    "gpuNum": 0,
    "memoryGiB": 72,
    "name": "ml.c5.9xlarge",
    "vcpuNum": 36
   },
   {
    "_defaultOrder": 25,
    "_isFastLaunch": false,
    "category": "Compute optimized",
    "gpuNum": 0,
    "memoryGiB": 96,
    "name": "ml.c5.12xlarge",
    "vcpuNum": 48
   },
   {
    "_defaultOrder": 26,
    "_isFastLaunch": false,
    "category": "Compute optimized",
    "gpuNum": 0,
    "memoryGiB": 144,
    "name": "ml.c5.18xlarge",
    "vcpuNum": 72
   },
   {
    "_defaultOrder": 27,
    "_isFastLaunch": false,
    "category": "Compute optimized",
    "gpuNum": 0,
    "memoryGiB": 192,
    "name": "ml.c5.24xlarge",
    "vcpuNum": 96
   },
   {
    "_defaultOrder": 28,
    "_isFastLaunch": true,
    "category": "Accelerated computing",
    "gpuNum": 1,
    "memoryGiB": 16,
    "name": "ml.g4dn.xlarge",
    "vcpuNum": 4
   },
   {
    "_defaultOrder": 29,
    "_isFastLaunch": false,
    "category": "Accelerated computing",
    "gpuNum": 1,
    "memoryGiB": 32,
    "name": "ml.g4dn.2xlarge",
    "vcpuNum": 8
   },
   {
    "_defaultOrder": 30,
    "_isFastLaunch": false,
    "category": "Accelerated computing",
    "gpuNum": 1,
    "memoryGiB": 64,
    "name": "ml.g4dn.4xlarge",
    "vcpuNum": 16
   },
   {
    "_defaultOrder": 31,
    "_isFastLaunch": false,
    "category": "Accelerated computing",
    "gpuNum": 1,
    "memoryGiB": 128,
    "name": "ml.g4dn.8xlarge",
    "vcpuNum": 32
   },
   {
    "_defaultOrder": 32,
    "_isFastLaunch": false,
    "category": "Accelerated computing",
    "gpuNum": 4,
    "memoryGiB": 192,
    "name": "ml.g4dn.12xlarge",
    "vcpuNum": 48
   },
   {
    "_defaultOrder": 33,
    "_isFastLaunch": false,
    "category": "Accelerated computing",
    "gpuNum": 1,
    "memoryGiB": 256,
    "name": "ml.g4dn.16xlarge",
    "vcpuNum": 64
   },
   {
    "_defaultOrder": 34,
    "_isFastLaunch": false,
    "category": "Accelerated computing",
    "gpuNum": 1,
    "memoryGiB": 61,
    "name": "ml.p3.2xlarge",
    "vcpuNum": 8
   },
   {
    "_defaultOrder": 35,
    "_isFastLaunch": false,
    "category": "Accelerated computing",
    "gpuNum": 4,
    "memoryGiB": 244,
    "name": "ml.p3.8xlarge",
    "vcpuNum": 32
   },
   {
    "_defaultOrder": 36,
    "_isFastLaunch": false,
    "category": "Accelerated computing",
    "gpuNum": 8,
    "memoryGiB": 488,
    "name": "ml.p3.16xlarge",
    "vcpuNum": 64
   },
   {
    "_defaultOrder": 37,
    "_isFastLaunch": false,
    "category": "Accelerated computing",
    "gpuNum": 8,
    "memoryGiB": 768,
    "name": "ml.p3dn.24xlarge",
    "vcpuNum": 96
   },
   {
    "_defaultOrder": 38,
    "_isFastLaunch": false,
    "category": "Memory Optimized",
    "gpuNum": 0,
    "memoryGiB": 16,
    "name": "ml.r5.large",
    "vcpuNum": 2
   },
   {
    "_defaultOrder": 39,
    "_isFastLaunch": false,
    "category": "Memory Optimized",
    "gpuNum": 0,
    "memoryGiB": 32,
    "name": "ml.r5.xlarge",
    "vcpuNum": 4
   },
   {
    "_defaultOrder": 40,
    "_isFastLaunch": false,
    "category": "Memory Optimized",
    "gpuNum": 0,
    "memoryGiB": 64,
    "name": "ml.r5.2xlarge",
    "vcpuNum": 8
   },
   {
    "_defaultOrder": 41,
    "_isFastLaunch": false,
    "category": "Memory Optimized",
    "gpuNum": 0,
    "memoryGiB": 128,
    "name": "ml.r5.4xlarge",
    "vcpuNum": 16
   },
   {
    "_defaultOrder": 42,
    "_isFastLaunch": false,
    "category": "Memory Optimized",
    "gpuNum": 0,
    "memoryGiB": 256,
    "name": "ml.r5.8xlarge",
    "vcpuNum": 32
   },
   {
    "_defaultOrder": 43,
    "_isFastLaunch": false,
    "category": "Memory Optimized",
    "gpuNum": 0,
    "memoryGiB": 384,
    "name": "ml.r5.12xlarge",
    "vcpuNum": 48
   },
   {
    "_defaultOrder": 44,
    "_isFastLaunch": false,
    "category": "Memory Optimized",
    "gpuNum": 0,
    "memoryGiB": 512,
    "name": "ml.r5.16xlarge",
    "vcpuNum": 64
   },
   {
    "_defaultOrder": 45,
    "_isFastLaunch": false,
    "category": "Memory Optimized",
    "gpuNum": 0,
    "memoryGiB": 768,
    "name": "ml.r5.24xlarge",
    "vcpuNum": 96
   },
   {
    "_defaultOrder": 46,
    "_isFastLaunch": false,
    "category": "Accelerated computing",
    "gpuNum": 1,
    "memoryGiB": 16,
    "name": "ml.g5.xlarge",
    "vcpuNum": 4
   },
   {
    "_defaultOrder": 47,
    "_isFastLaunch": false,
    "category": "Accelerated computing",
    "gpuNum": 1,
    "memoryGiB": 32,
    "name": "ml.g5.2xlarge",
    "vcpuNum": 8
   },
   {
    "_defaultOrder": 48,
    "_isFastLaunch": false,
    "category": "Accelerated computing",
    "gpuNum": 1,
    "memoryGiB": 64,
    "name": "ml.g5.4xlarge",
    "vcpuNum": 16
   },
   {
    "_defaultOrder": 49,
    "_isFastLaunch": false,
    "category": "Accelerated computing",
    "gpuNum": 1,
    "memoryGiB": 128,
    "name": "ml.g5.8xlarge",
    "vcpuNum": 32
   },
   {
    "_defaultOrder": 50,
    "_isFastLaunch": false,
    "category": "Accelerated computing",
    "gpuNum": 1,
    "memoryGiB": 256,
    "name": "ml.g5.16xlarge",
    "vcpuNum": 64
   },
   {
    "_defaultOrder": 51,
    "_isFastLaunch": false,
    "category": "Accelerated computing",
    "gpuNum": 4,
    "memoryGiB": 192,
    "name": "ml.g5.12xlarge",
    "vcpuNum": 48
   },
   {
    "_defaultOrder": 52,
    "_isFastLaunch": false,
    "category": "Accelerated computing",
    "gpuNum": 4,
    "memoryGiB": 384,
    "name": "ml.g5.24xlarge",
    "vcpuNum": 96
   },
   {
    "_defaultOrder": 53,
    "_isFastLaunch": false,
    "category": "Accelerated computing",
    "gpuNum": 8,
    "memoryGiB": 768,
    "name": "ml.g5.48xlarge",
    "vcpuNum": 192
   }
  ],
  "instance_type": "ml.g4dn.xlarge",
  "kernelspec": {
   "display_name": "Python 3 (TensorFlow 2.11.0 Python 3.9 GPU Optimized)",
   "language": "python",
   "name": "python3__SAGEMAKER_INTERNAL__arn:aws:sagemaker:ap-southeast-2:452832661640:image/tensorflow-2.11.0-gpu-py39-cu112-ubuntu20.04-sagemaker-v1.1"
  },
  "language_info": {
   "codemirror_mode": {
    "name": "ipython",
    "version": 3
   },
   "file_extension": ".py",
   "mimetype": "text/x-python",
   "name": "python",
   "nbconvert_exporter": "python",
   "pygments_lexer": "ipython3",
   "version": "3.9.10"
  }
 },
 "nbformat": 4,
 "nbformat_minor": 5
}
